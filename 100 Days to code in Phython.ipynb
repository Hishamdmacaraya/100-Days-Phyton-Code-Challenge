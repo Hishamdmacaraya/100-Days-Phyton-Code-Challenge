{
 "cells": [
  {
   "cell_type": "markdown",
   "id": "41f83033",
   "metadata": {},
   "source": [
    "# 100 Days to code in Phython Bootcamp"
   ]
  },
  {
   "cell_type": "markdown",
   "id": "4e075d4e",
   "metadata": {},
   "source": [
    "## Day 1: Simple Username and Password Generator"
   ]
  },
  {
   "cell_type": "code",
   "execution_count": 32,
   "id": "fcef830b",
   "metadata": {},
   "outputs": [
    {
     "name": "stdout",
     "output_type": "stream",
     "text": [
      "Welcome to the 'Simple Username and Password Generator'\n",
      " \n",
      "What's is your first name?\n",
      "name\n",
      " \n",
      "What's is your last name?\n",
      "last\n",
      " \n",
      "When is your birthday? Type in mm/dd/yyyy format.\n",
      "10/12/1321\n",
      " \n",
      "What is the last 4 digits of your social security number?\n",
      "1234\n",
      " \n",
      "Your Username is: nlast1234\n",
      "Your unique password is: aasaah15J\n"
     ]
    }
   ],
   "source": [
    "print(\"Welcome to the 'Simple Username and Password Generator'\")\n",
    "print(' ')\n",
    "\n",
    "fname_d1 = input(\"What's is your first name?\\n\") \n",
    "\n",
    "print(' ')\n",
    "lname_d1 = input(\"What's is your last name?\\n\") \n",
    "\n",
    "print(' ')\n",
    "dob_d1 = input(\"When is your birthday? Type in mm/dd/yyyy format.\\n\") \n",
    "dob1_d1 = dob[1]\n",
    "dob2_d1 = dob[6:-1]\n",
    "\n",
    "print(' ')\n",
    "soc_d1 = input(\"What is the last 4 digits of your social security number?\\n\")\n",
    "\n",
    "import random\n",
    "import string\n",
    "characters = string.ascii_letters + string.digits + string.punctuation\n",
    "random = ''.join(random.choice(characters) for i in range(4))\n",
    "\n",
    "print(' ')\n",
    "print(\"Your Username is: \" + fname_d1[0] + \"\" + lname_d1[0:5] + soc_d1)\n",
    "print(\"Your unique password is: \" + dob1_d1 + fname[1::2] + \"\" + dob2_d1 + random)"
   ]
  },
  {
   "cell_type": "markdown",
   "id": "e102316c",
   "metadata": {},
   "source": [
    "### Printing Exercise 1\n",
    "After you have written your code, you should run your program and it should print the following:\n",
    "\n",
    "Day 1 - Python Print Function\n",
    "\n",
    "The function is declared like this:\n",
    "\n",
    "print('what to print')"
   ]
  },
  {
   "cell_type": "code",
   "execution_count": null,
   "id": "d2c8a4f4",
   "metadata": {},
   "outputs": [],
   "source": [
    "print('Day 1 - Python Print Function')\n",
    "print('The function is declared like this:')\n",
    "print(\"print('what to print')\");\n",
    "\n",
    "#Or use only a single line\n",
    "print(' ')\n",
    "\n",
    "print(\"Day 1 - Python Print Function\\nThe function is declared like this:\\nprint('what to print')\");\n"
   ]
  },
  {
   "cell_type": "markdown",
   "id": "52893160",
   "metadata": {},
   "source": [
    "### Debugging Exercise\n",
    "\n",
    "#Fix the code below \n",
    "\n",
    "print(Day 1 - String Manipulation\")\n",
    "\n",
    "print(\"String Concatenation is done with the \"+\" sign.\")\n",
    "      \n",
    "      print('e.g. print(\"Hello \" + \"world\")')\\n\n",
    "\n",
    "print((\"New lines can be created with a backslash and n.\")"
   ]
  },
  {
   "cell_type": "code",
   "execution_count": null,
   "id": "ca8c1ea7",
   "metadata": {},
   "outputs": [],
   "source": [
    "print(\"Day 1 - String Manipulation\")\n",
    "print(\"String Concatenation is done with the '+' sign.\")\n",
    "print('e.g. print(\"Hello \" + \"world\")')\n",
    "print(\"New lines can be created with a backslash and n.\")"
   ]
  },
  {
   "cell_type": "markdown",
   "id": "f99c2da2",
   "metadata": {},
   "source": [
    "### Input Function "
   ]
  },
  {
   "cell_type": "code",
   "execution_count": 9,
   "id": "f26c70d8",
   "metadata": {},
   "outputs": [
    {
     "name": "stdout",
     "output_type": "stream",
     "text": [
      "What is your name?\n",
      "adada\n",
      "Hello adada!\n"
     ]
    }
   ],
   "source": [
    "name = input(\"What is your name?\\n\")\n",
    "\n",
    "print(\"Hello\" + ' ' + name + '!')"
   ]
  },
  {
   "cell_type": "code",
   "execution_count": 11,
   "id": "f25f2318",
   "metadata": {},
   "outputs": [
    {
     "name": "stdout",
     "output_type": "stream",
     "text": [
      "What is your name?sam\n",
      "Hello sam!\n"
     ]
    }
   ],
   "source": [
    "print('Hello' + ' ' + input('What is your name?') + '!')"
   ]
  },
  {
   "cell_type": "markdown",
   "id": "599802c3",
   "metadata": {},
   "source": [
    "#### Input Exercise: "
   ]
  },
  {
   "cell_type": "code",
   "execution_count": 27,
   "id": "e9b7cb8b",
   "metadata": {},
   "outputs": [
    {
     "name": "stdout",
     "output_type": "stream",
     "text": [
      "What is your name?\n",
      "hfggyf\n",
      "\n",
      "Name length:\n",
      "6\n"
     ]
    }
   ],
   "source": [
    "name = input(\"What is your name?\\n\")\n",
    "\n",
    "print(\"\\nName length:\\n\" + str(len(name)))"
   ]
  },
  {
   "cell_type": "markdown",
   "id": "da277721",
   "metadata": {},
   "source": [
    "### Variable"
   ]
  },
  {
   "cell_type": "code",
   "execution_count": 33,
   "id": "f2cf48a5",
   "metadata": {},
   "outputs": [
    {
     "name": "stdout",
     "output_type": "stream",
     "text": [
      "Jack\n"
     ]
    }
   ],
   "source": [
    "name = 'Jack'\n",
    "print(name)"
   ]
  },
  {
   "cell_type": "code",
   "execution_count": 35,
   "id": "d1de5b5f",
   "metadata": {},
   "outputs": [
    {
     "name": "stdout",
     "output_type": "stream",
     "text": [
      "Angela\n"
     ]
    }
   ],
   "source": [
    "#Variables updates to the latest input.\n",
    "\n",
    "name = 'Angela'\n",
    "print(name)"
   ]
  },
  {
   "cell_type": "markdown",
   "id": "4909038f",
   "metadata": {},
   "source": [
    "#### Variable Exercise\n",
    "\n",
    "Write a program that switches the values stored in the variables a and b."
   ]
  },
  {
   "cell_type": "code",
   "execution_count": 1,
   "id": "f94ab9a6",
   "metadata": {},
   "outputs": [
    {
     "name": "stdout",
     "output_type": "stream",
     "text": [
      "variables\n",
      " \n",
      "a: 1000\n",
      "b: 2000\n",
      " \n",
      "switched variables\n",
      " \n",
      "a: 2000\n",
      "b: 2000\n"
     ]
    }
   ],
   "source": [
    "print('variables')\n",
    "print(' ')\n",
    "a = input(\"a: \")\n",
    "b = input(\"b: \")\n",
    "print(' ')\n",
    "\n",
    "a = b\n",
    "b = a\n",
    "\n",
    "print('switched variables')\n",
    "print(' ')\n",
    "print(\"a: \" + a)\n",
    "print(\"b: \" + b)"
   ]
  },
  {
   "cell_type": "markdown",
   "id": "e119d7d1",
   "metadata": {},
   "source": [
    "## Day 2: Restaurant Bill Calculator"
   ]
  },
  {
   "cell_type": "code",
   "execution_count": 10,
   "id": "64165395",
   "metadata": {},
   "outputs": [
    {
     "name": "stdout",
     "output_type": "stream",
     "text": [
      "Welcome to the 'Simple Restaurant Bill Calculator!'\n",
      " \n",
      "What was the total bill?\n",
      "$100\n",
      " \n",
      "How much tip would you like to give? 10%, 12%, or 15%?\n",
      "(%) 10\n",
      " \n",
      "What was your tax rate?\n",
      "(%) 10\n",
      " \n",
      "How many people to split the bill?\n",
      "1\n",
      " \n",
      "-------------Total Bill-------------\n",
      "\n",
      "Total payment due:         $120.0\n",
      "Total tax due:             $10.0\n",
      "Payment due per person:    $120.0\n",
      " \n",
      " \n",
      "-------------End-------------\n"
     ]
    }
   ],
   "source": [
    "print(\"Welcome to the 'Simple Restaurant Bill Calculator!'\")\n",
    "print(' ')\n",
    "\n",
    "bill = float(input(\"What was the total bill?\\n$\"))\n",
    "print(' ')\n",
    "tip = int(input(\"How much tip would you like to give? 10%, 12%, or 15%?\\n(%) \"))\n",
    "print(' ')\n",
    "tax_rate = float(input(\"What was your tax rate?\\n(%) \"))\n",
    "print(' ')\n",
    "people = int(input(\"How many people to split the bill?\\n\"))\n",
    "\n",
    "\n",
    "tip_as_percent = tip / 100\n",
    "tax_as_percent = tax_rate / 100\n",
    "total_tip_amount = bill * tip_as_percent\n",
    "total_bill_plus_tax = bill * tax_as_percent\n",
    "total_bill = bill + total_tip_amount + total_bill_plus_tax\n",
    "bill_per_person = total_bill / people\n",
    "final_amount = round(bill_per_person, 2)\n",
    "tax_due = tax_as_percent  * bill\n",
    "\n",
    "print(' ')\n",
    "print('-------------Total Bill-------------')\n",
    "print('')\n",
    "\n",
    "print(f\"Total payment due:         ${total_bill}\")\n",
    "print(f\"Total tax due:             ${tax_due}\")\n",
    "print(f\"Payment due per person:    ${final_amount}\")\n",
    "print(' ')\n",
    "\n",
    "print(' ')\n",
    "print('-------------End-------------')\n",
    "\n",
    "\n"
   ]
  },
  {
   "cell_type": "markdown",
   "id": "1520b371",
   "metadata": {},
   "source": [
    "## Day 3 BMI Calculator"
   ]
  },
  {
   "cell_type": "code",
   "execution_count": 8,
   "id": "995d59a1",
   "metadata": {},
   "outputs": [
    {
     "name": "stdout",
     "output_type": "stream",
     "text": [
      "Welcome to the 'Simple BMI Calculator'\n",
      " \n",
      "What's is your height in meters?\n",
      "10\n",
      " \n",
      "What's is your weight in Kilograms?\n",
      "10\n",
      " \n",
      "Calculating......\n",
      " \n",
      "-------------------------\n",
      "Your BMI is:  0.1\n",
      "-------------------------\n"
     ]
    }
   ],
   "source": [
    "print(\"Welcome to the 'Simple BMI Calculator'\")\n",
    "print(' ')\n",
    "\n",
    "\n",
    "\n",
    "height = float(input(\"What's is your height in meters?\\n\")) \n",
    "\n",
    "print(' ')\n",
    "weight = float(input(\"What's is your weight in Kilograms?\\n\")) \n",
    "\n",
    "print(' ')\n",
    "print('Calculating......')\n",
    "\n",
    "BMI = weight / height ** 2\n",
    "BMI_str = str(BMI)\n",
    "\n",
    "\n",
    "print(' ')\n",
    "print('-------------------------')\n",
    "print('Your BMI is:  ' + BMI_str)\n",
    "print('-------------------------')\n"
   ]
  },
  {
   "cell_type": "code",
   "execution_count": 9,
   "id": "2ac08a34",
   "metadata": {},
   "outputs": [
    {
     "data": {
      "text/plain": [
       "str"
      ]
     },
     "execution_count": 9,
     "metadata": {},
     "output_type": "execute_result"
    }
   ],
   "source": [
    "y = '10'\n",
    "\n",
    "type(y)"
   ]
  },
  {
   "cell_type": "markdown",
   "id": "c1a8eefc",
   "metadata": {},
   "source": [
    "### Day 4: BMI Calculator (US Version)"
   ]
  },
  {
   "cell_type": "code",
   "execution_count": 16,
   "id": "6343acf1",
   "metadata": {},
   "outputs": [
    {
     "name": "stdout",
     "output_type": "stream",
     "text": [
      "Welcome to the 'BMI Calculator (US version)'\n",
      " \n",
      "What's is your height in inches?\n",
      "(in)  70\n",
      " \n",
      "What's is your weight in Pound?\n",
      "(lbs)  200\n",
      " \n",
      "Calculating......\n",
      " \n",
      "----------------------------------\n",
      "Your BMI is:  29.8\n",
      " \n",
      "According to CDC, your BMI means:\n",
      "You are overweight\n",
      "----------------------------------\n",
      " \n",
      "Adult Body Mass Index or BMI Table from CDC\n",
      " \n",
      "╒═════════════════╤══════════════╕\n",
      "│ Weight Status   │ BMI          │\n",
      "╞═════════════════╪══════════════╡\n",
      "│ Underweight     │ 18.5         │\n",
      "├─────────────────┼──────────────┤\n",
      "│ Normal          │ 18.5 - 24.9  │\n",
      "├─────────────────┼──────────────┤\n",
      "│ Overweight      │ 25.0 - 29.9  │\n",
      "├─────────────────┼──────────────┤\n",
      "│ Obese           │ 30 and above │\n",
      "╘═════════════════╧══════════════╛\n",
      " \n",
      "Reference: https://www.cdc.gov/healthyweight/assessing/index.html\n"
     ]
    }
   ],
   "source": [
    "print(\"Welcome to the 'BMI Calculator (US version)'\")\n",
    "print(' ')\n",
    "\n",
    "\n",
    "\n",
    "height = float(input(\"What's is your height in inches?\\n(in)  \")) \n",
    "\n",
    "print(' ')\n",
    "weight = float(input(\"What's is your weight in Pound?\\n(lbs)  \")) \n",
    "\n",
    "print(' ')\n",
    "print('Calculating......')\n",
    "\n",
    "BMI = round(((weight / height ** 2) * 730), 2)\n",
    "BMI_str = str(BMI)\n",
    "\n",
    "\n",
    "print(' ')\n",
    "print('----------------------------------')\n",
    "print('Your BMI is:  ' + BMI_str)\n",
    "print(' ')\n",
    "\n",
    "print('According to CDC, your BMI means:')\n",
    "if BMI <= 18.5:  \n",
    "    print(\"You are underweight\")  \n",
    "elif BMI <= 24.9:  \n",
    "    print(\"Awesome! You are healthy\")  \n",
    "elif BMI <= 29.9:  \n",
    "    print(\"You are overweight\")  \n",
    "else:  \n",
    "    print(\"You are obese\")  \n",
    "print('----------------------------------')\n",
    "\n",
    "print(' ')\n",
    "print('Adult Body Mass Index or BMI Table from CDC')\n",
    "print(' ')\n",
    "\n",
    "from tabulate import tabulate\n",
    "\n",
    "\n",
    "data = [[\"Underweight\", '18.5'], \n",
    "        [\"Normal\", '18.5 - 24.9'], \n",
    "        [\"Overweight\", '25.0 - 29.9'], \n",
    "        [\"Obese\", '30 and above']]\n",
    "  \n",
    "#define header names\n",
    "col_names = [\"Weight Status\", \"BMI\"]\n",
    "  \n",
    "#display table\n",
    "print(tabulate(data, headers=col_names, tablefmt=\"fancy_grid\")) \n",
    "\n",
    "print(' ')\n",
    "print('Reference: https://www.cdc.gov/healthyweight/assessing/index.html')"
   ]
  },
  {
   "cell_type": "code",
   "execution_count": 2,
   "id": "87e65996",
   "metadata": {},
   "outputs": [
    {
     "name": "stdout",
     "output_type": "stream",
     "text": [
      "70\n"
     ]
    }
   ],
   "source": [
    "print(5*12+10)"
   ]
  },
  {
   "cell_type": "code",
   "execution_count": 9,
   "id": "24ccf239",
   "metadata": {},
   "outputs": [
    {
     "name": "stdout",
     "output_type": "stream",
     "text": [
      "Hel\n"
     ]
    }
   ],
   "source": [
    "print(\"Hello\"[:3])"
   ]
  },
  {
   "cell_type": "markdown",
   "id": "a629d082",
   "metadata": {},
   "source": [
    "Comma (,) Can be substituted with underscore in number (_)"
   ]
  },
  {
   "cell_type": "code",
   "execution_count": 10,
   "id": "e3cea6ed",
   "metadata": {},
   "outputs": [
    {
     "name": "stdout",
     "output_type": "stream",
     "text": [
      "1000000\n"
     ]
    }
   ],
   "source": [
    "print(1000000)"
   ]
  },
  {
   "cell_type": "code",
   "execution_count": 11,
   "id": "a316735a",
   "metadata": {},
   "outputs": [
    {
     "name": "stdout",
     "output_type": "stream",
     "text": [
      "1000000\n"
     ]
    }
   ],
   "source": [
    "# vs\n",
    "\n",
    "print (1_000_000)"
   ]
  },
  {
   "cell_type": "markdown",
   "id": "5137a978",
   "metadata": {},
   "source": [
    "Boolean (bool) can only be True or False. Important: T and F should always be capitalized"
   ]
  },
  {
   "cell_type": "markdown",
   "id": "fa06cc7e",
   "metadata": {},
   "source": [
    "You'll get a type error if you run this\n",
    "\n",
    "num_char = len(input('What is your name?'))\n",
    "print(\"Your name has \" + num_char_str + \" chracters.\")"
   ]
  },
  {
   "cell_type": "markdown",
   "id": "af4daced",
   "metadata": {},
   "source": [
    "#### Type casting"
   ]
  },
  {
   "cell_type": "code",
   "execution_count": 7,
   "id": "5d404cfc",
   "metadata": {},
   "outputs": [
    {
     "name": "stdout",
     "output_type": "stream",
     "text": [
      "What is your name? Hisham\n",
      "Your name has 6 chracters.\n"
     ]
    }
   ],
   "source": [
    "num_char = len(input('What is your name? '))\n",
    "num_char_str = str(num_char)\n",
    "print(\"Your name has \" + num_char_str + \" chracters.\")"
   ]
  },
  {
   "cell_type": "code",
   "execution_count": 8,
   "id": "cbd398de",
   "metadata": {},
   "outputs": [
    {
     "data": {
      "text/plain": [
       "int"
      ]
     },
     "execution_count": 8,
     "metadata": {},
     "output_type": "execute_result"
    }
   ],
   "source": [
    "type(num_char)"
   ]
  },
  {
   "cell_type": "code",
   "execution_count": 10,
   "id": "dd6790b4",
   "metadata": {},
   "outputs": [
    {
     "data": {
      "text/plain": [
       "str"
      ]
     },
     "execution_count": 10,
     "metadata": {},
     "output_type": "execute_result"
    }
   ],
   "source": [
    "type(num_char_str)"
   ]
  },
  {
   "cell_type": "code",
   "execution_count": 11,
   "id": "5eeb49ba",
   "metadata": {
    "scrolled": true
   },
   "outputs": [
    {
     "name": "stdout",
     "output_type": "stream",
     "text": [
      "120.5\n"
     ]
    }
   ],
   "source": [
    "print(20 + float(\"100.5\"))"
   ]
  },
  {
   "cell_type": "markdown",
   "id": "c4a84df2",
   "metadata": {},
   "source": [
    "#### Data Type Exercise\n",
    "\n",
    "Write a program that adds the digits in a 2 digit number. e.g. if the input was 35, then the output should be 3 + 5 = 8"
   ]
  },
  {
   "cell_type": "code",
   "execution_count": 4,
   "id": "4024e1cc",
   "metadata": {},
   "outputs": [
    {
     "name": "stdout",
     "output_type": "stream",
     "text": [
      "Type a two digit number: 11\n",
      "2\n"
     ]
    }
   ],
   "source": [
    "two_digit_number = input(\"Type a two digit number: \")\n",
    "first_digit = int(two_digit_number[0])\n",
    "second_digit = int(two_digit_number[1])\n",
    "\n",
    "print(first_digit + second_digit)"
   ]
  },
  {
   "cell_type": "code",
   "execution_count": 3,
   "id": "2e496b1c",
   "metadata": {},
   "outputs": [
    {
     "data": {
      "text/plain": [
       "str"
      ]
     },
     "execution_count": 3,
     "metadata": {},
     "output_type": "execute_result"
    }
   ],
   "source": [
    "type(two_digit_number)"
   ]
  },
  {
   "cell_type": "code",
   "execution_count": 5,
   "id": "6226b9f4",
   "metadata": {},
   "outputs": [
    {
     "data": {
      "text/plain": [
       "int"
      ]
     },
     "execution_count": 5,
     "metadata": {},
     "output_type": "execute_result"
    }
   ],
   "source": [
    "type(first_digit)"
   ]
  },
  {
   "cell_type": "code",
   "execution_count": 6,
   "id": "06c219fa",
   "metadata": {},
   "outputs": [
    {
     "name": "stdout",
     "output_type": "stream",
     "text": [
      "Type a two digit number: 11\n",
      "2\n"
     ]
    }
   ],
   "source": [
    "# Answer from Angel\n",
    "\n",
    "# 🚨 Don't change the code below 👇\n",
    "two_digit_number = input(\"Type a two digit number: \")\n",
    "# 🚨 Don't change the code above 👆\n",
    "\n",
    "####################################\n",
    "#Write your code below this line 👇\n",
    "\n",
    "#Check the data type of two_digit_number\n",
    "# print(type(two_digit_number))\n",
    "\n",
    "#Get the first and second digits using subscripting then convert string to int.\n",
    "first_digit = int(two_digit_number[0])\n",
    "second_digit = int(two_digit_number[1])\n",
    "\n",
    "#Add the two digits together\n",
    "two_digit_number = first_digit + second_digit\n",
    "\n",
    "print(two_digit_number)\n"
   ]
  },
  {
   "cell_type": "markdown",
   "id": "27dc9967",
   "metadata": {},
   "source": [
    "#### Math Operatrion in Python\n",
    "\n",
    "PEMDAS\n",
    "\n",
    "Pharentesis and Bracket [()]\n",
    "\n",
    "Exponent (**)\n",
    "\n",
    "Multiplication (*) and Division (/)\n",
    "\n",
    "Addition (+) and Subtraction (-)\n",
    "\n",
    "Left to Right"
   ]
  },
  {
   "cell_type": "code",
   "execution_count": 8,
   "id": "cf31f597",
   "metadata": {},
   "outputs": [
    {
     "name": "stdout",
     "output_type": "stream",
     "text": [
      "7.0\n"
     ]
    }
   ],
   "source": [
    "print(3*3+3/3-3)"
   ]
  },
  {
   "cell_type": "code",
   "execution_count": 9,
   "id": "a61142cd",
   "metadata": {},
   "outputs": [
    {
     "name": "stdout",
     "output_type": "stream",
     "text": [
      "3.0\n"
     ]
    }
   ],
   "source": [
    "print(3*(3+3)/3-3)"
   ]
  },
  {
   "cell_type": "markdown",
   "id": "6e9642b1",
   "metadata": {},
   "source": [
    "### Day 5 Grade Calculator"
   ]
  },
  {
   "cell_type": "code",
   "execution_count": null,
   "id": "fce0fbc1",
   "metadata": {},
   "outputs": [],
   "source": [
    "print('Welcome to Grade Estimator for Outlier.org College Writing I')\n",
    "print('Disclaimer: This is not an official version.')\n",
    "print()\n",
    "print('Instruction: Type your grade (%) in the promt. Type \"0\" if not yet graded.')\n",
    "\n",
    "print()\n",
    "close_reading_essay = float(input('What is your close essay grade? '))/100*16 \n",
    "print('Close Reading Essay =',close_reading_essay, '%', 'out 16%')\n",
    "\n",
    "print()\n",
    "lens_essay = float(input('What is your lens essay grade? '))/100*20 \n",
    "print('Lens Essay =', lens_essay, '%', 'out 20%')\n",
    "\n",
    "print()\n",
    "research_essay = float(input('What is your research essay grade? '))/100*25 \n",
    "print('Research Essay =', research_essay, '%', 'out 25%')\n",
    "\n",
    "print()\n",
    "participation = float(input('What is your participation grade? '))/100*5 \n",
    "print('Participation =', participation, '%', 'out 20%')\n",
    "\n",
    "print()\n",
    "quiz1 = float(input('What is your total quiz 1 grade? '))\n",
    "quiz2 = float(input('What is your total quiz 2 grade? '))\n",
    "quiz3 = float(input('What is your total quiz 3 grade? '))\n",
    "quiz4 = float(input('What is your total quiz 4 grade? '))\n",
    "quiz5 = float(input('What is your total quiz 5 grade? '))\n",
    "quiz6 = float(input('What is your total quiz 6 grade? '))\n",
    "quiz7 = float(input('What is your total quiz 7 grade? '))\n",
    "quiz8 = float(input('What is your total quiz 8 grade? '))\n",
    "quiz9 = float(input('What is your total quiz 9 grade? '))\n",
    "quiz10 = float(input('What is your total quiz 10 grade? '))\n",
    "quiz11 = float(input('What is your total quiz 11 grade? '))\n",
    "quiz12 = float(input('What is your total quiz 12 grade? '))\n",
    "quiz13 = float(input('What is your total quiz 13 grade? '))\n",
    "quiz14 = float(input('What is your total quiz 14 grade? '))\n",
    "print()\n",
    "quizzes = round(((quiz1 + quiz2 + quiz3 + quiz4 + quiz5 + quiz6 + quiz7 + quiz8 + quiz9 + quiz10 + quiz11 + quiz12 + quiz13 + quiz14)/14 / 100*14), 2)\n",
    "print('Total Quizes =', quizzes, '%', 'out 14%')\n",
    "\n",
    "print()\n",
    "pre_writing1 = float(input('What is your total pre-writing 1 grade? '))\n",
    "pre_writing2 = float(input('What is your total pre-writing 2 grade? '))\n",
    "pre_writing3 = float(input('What is your total pre-writing 3 grade? '))\n",
    "pre_writing4 = float(input('What is your total pre-writing 4 grade? '))\n",
    "pre_writing5 = float(input('What is your total pre-writing 5 grade? '))\n",
    "pre_writing6 = float(input('What is your total pre-writing 6 grade? '))\n",
    "pre_writing7 = float(input('What is your total pre-writing 7 grade? '))\n",
    "pre_writing8 = float(input('What is your total pre-writing 8 grade? '))\n",
    "pre_writing9 = float(input('What is your total pre-writing 9 grade? '))\n",
    "pre_writing10 = float(input('What is your total pre-writing 10 grade? '))\n",
    "pre_writing11 = float(input('What is your total pre-writing 11 grade? '))\n",
    "print()\n",
    "pre_writing = round(((pre_writing1 + pre_writing2 + pre_writing3 + pre_writing4 + pre_writing5 + pre_writing6 + pre_writing7 + pre_writing7 + pre_writing8 + pre_writing9 + pre_writing10 + pre_writing11)/11 /100*14), 2)                  \n",
    "print('Total Quizes =', pre_writing, '%', 'out 20%')\n",
    "\n",
    "total_grade = close_reading_essay + research_essay + lens_essay + participation + quizzes + pre_writing\n",
    "print()\n",
    "print('Your Total Grade is: ', total_grade)"
   ]
  }
 ],
 "metadata": {
  "kernelspec": {
   "display_name": "Python 3 (ipykernel)",
   "language": "python",
   "name": "python3"
  },
  "language_info": {
   "codemirror_mode": {
    "name": "ipython",
    "version": 3
   },
   "file_extension": ".py",
   "mimetype": "text/x-python",
   "name": "python",
   "nbconvert_exporter": "python",
   "pygments_lexer": "ipython3",
   "version": "3.9.13"
  }
 },
 "nbformat": 4,
 "nbformat_minor": 5
}
